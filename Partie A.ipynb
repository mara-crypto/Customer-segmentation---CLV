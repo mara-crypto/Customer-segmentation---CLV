{
 "cells": [
  {
   "cell_type": "markdown",
   "id": "d2f019cc",
   "metadata": {},
   "source": [
    "# Objectif du Projet "
   ]
  },
  {
   "cell_type": "markdown",
   "id": "f1d697e2",
   "metadata": {},
   "source": [
    "L’objectif principal de ce projet consiste, dans un premier temps, à analyser les données de\n",
    "ventes mensuelles d’une entreprise. Ensuite, entreprendre la segmentation des clients, et enfin,\n",
    "nous développer un modèle de machine learning afin de prédire la valeur à vie de chaque client.."
   ]
  },
  {
   "cell_type": "markdown",
   "id": "f1f187c6",
   "metadata": {},
   "source": [
    "# Partie A :"
   ]
  },
  {
   "cell_type": "markdown",
   "id": "d2ca15ae",
   "metadata": {},
   "source": [
    "La direction marketing vous soumet un dossier nommé données_ventes qui contient\n",
    "plusieurs fichiers.Leur souhait est d’avoir des informations pertinentes de leur activités basées\n",
    "sur les données.\n",
    "1. Avec un script python, récupérer touts les fichiers qui sont dans le dossier et stocker\n",
    "les dans un fichier csv que vous nommez data .\n",
    "2. Charger le fichier csv enregistré et essayer de répondre aux questions suivantes en\n",
    "faisant les transformations nécessaires. Pour des raisons d’analyse, vous pouvez sup-\n",
    "primer toutes les valeurs manquantes. Choisissez un type de graphe pour visualiser\n",
    "chaque résultat.\n",
    "3. Quel est le mois durant le quel l’entreprise a realisé le meilleur chiffre d’affaire ?\n",
    "4. Dans quelle ville, l’entreprise a enregistré le maximum de commandes ?\n",
    "5. En quel moment doit on faire une campagne de publicité pour avoir plus de ventes ?\n",
    "6. Quel est le produit qui est plus vendu ? Essayer d’expliquer pourquoi il est plus vendu ?\n",
    "7. Quelles sont les combinaisons de produits qui se vendent le plus ?\n",
    "8. Vous pourriez répondre à d’autres questions si nécessaires."
   ]
  },
  {
   "cell_type": "markdown",
   "id": "6134f7f4",
   "metadata": {},
   "source": [
    "## 1. Avec un script python, récupérer touts les fichiers qui sont dans le dossier et stocker les dans un fichier csv que vous nommez data ."
   ]
  },
  {
   "cell_type": "code",
   "execution_count": null,
   "id": "8f7aa6ff",
   "metadata": {},
   "outputs": [],
   "source": [
    "import pandas as pd"
   ]
  },
  {
   "cell_type": "code",
   "execution_count": null,
   "id": "5afa40dd",
   "metadata": {},
   "outputs": [],
   "source": [
    "tab_name = [\"données_ventes/Sales_January_2019.csv\",\n",
    "            \"données_ventes/Sales_February_2019.csv\",\n",
    "            \"données_ventes/Sales_March_2019.csv\",\n",
    "            \"données_ventes/Sales_April_2019.csv\", \n",
    "            \"données_ventes/Sales_May_2019.csv\",\n",
    "            \"données_ventes/Sales_June_2019.csv\",\n",
    "            \"données_ventes/Sales_July_2019.csv\",\n",
    "            \"données_ventes/Sales_August_2019.csv\",\n",
    "            \"données_ventes/Sales_September_2019.csv\",\n",
    "            \"données_ventes/Sales_October_2019.csv\",\n",
    "            \"données_ventes/Sales_November_2019.csv\",\n",
    "            \"données_ventes/Sales_December_2019.csv\"\n",
    "           ]\n",
    "data = []"
   ]
  },
  {
   "cell_type": "code",
   "execution_count": null,
   "id": "ae3f5a40",
   "metadata": {},
   "outputs": [],
   "source": [
    "# Parcourir les fichiers, les lire et les ajouter à la liste data\n",
    "for element in tab_name:\n",
    "    df = pd.read_csv(element, sep=\",\")\n",
    "    data.append(df)\n",
    "    \n",
    "\n",
    "# Concaténer les DataFrames de la liste data en un seul DataFrame\n",
    "combined_data = pd.concat(data, ignore_index=True)\n",
    "\n",
    "# Enregistrer le DataFrame combiné dans un fichier CSV\n",
    "combined_data.to_csv(\"data.csv\", index=False, header=True)"
   ]
  },
  {
   "cell_type": "markdown",
   "id": "60162ab4",
   "metadata": {},
   "source": [
    "## 2. Charger le fichier csv enregistré et essayer de répondre aux questions suivantes en faisant les transformations nécessaires. Pour des raisons d’analyse, vous pouvez supprimer toutes les valeurs manquantes. Choisissez un type de graphe pour visualiser chaque résultat."
   ]
  },
  {
   "cell_type": "code",
   "execution_count": null,
   "id": "6242c6bf",
   "metadata": {},
   "outputs": [],
   "source": [
    "data = pd.read_csv(\"data.csv\", sep=\",\")\n",
    "data.head()\n",
    "print(data.groupby('Order ID')[\"Order ID\"].count()) \n",
    "data.info()"
   ]
  },
  {
   "cell_type": "code",
   "execution_count": null,
   "id": "29fab11d",
   "metadata": {},
   "outputs": [],
   "source": [
    "data.isnull().sum()"
   ]
  },
  {
   "cell_type": "code",
   "execution_count": null,
   "id": "656c7d3b",
   "metadata": {},
   "outputs": [],
   "source": [
    "data.isna().sum()"
   ]
  },
  {
   "cell_type": "code",
   "execution_count": null,
   "id": "69aa4627",
   "metadata": {},
   "outputs": [],
   "source": [
    "data.dropna(inplace=True)\n",
    "data.isna().sum()"
   ]
  },
  {
   "cell_type": "code",
   "execution_count": null,
   "id": "91afeb78",
   "metadata": {},
   "outputs": [],
   "source": [
    "data.info()"
   ]
  },
  {
   "cell_type": "code",
   "execution_count": null,
   "id": "baf97a38",
   "metadata": {
    "scrolled": false
   },
   "outputs": [],
   "source": [
    "# Convertir 'Quantity Ordered' en nombre entier\n",
    "data['Quantity Ordered'] = pd.to_numeric(data['Quantity Ordered'], errors='coerce')\n",
    "\n",
    "# Convertir 'Price Each' en nombre décimal\n",
    "data['Price Each'] = pd.to_numeric(data['Price Each'], errors='coerce')\n",
    "\n",
    "# # Convertir 'Order Date' en datetime\n",
    "# data['Order Date'] = pd.to_datetime(data['Order Date'], format='%m/%d/%y %H:%M')\n",
    "\n",
    "# Vérifier les types de données mis à jour\n",
    "data.info()\n"
   ]
  },
  {
   "cell_type": "code",
   "execution_count": 1,
   "id": "14cea18b",
   "metadata": {},
   "outputs": [
    {
     "ename": "NameError",
     "evalue": "name 'data' is not defined",
     "output_type": "error",
     "traceback": [
      "\u001b[0;31m---------------------------------------------------------------------------\u001b[0m",
      "\u001b[0;31mNameError\u001b[0m                                 Traceback (most recent call last)",
      "\u001b[1;32m/home/dioptrtit/Bureau/Projets realiser/Projet ML/Partie A.ipynb Cellule 16\u001b[0m line \u001b[0;36m2\n\u001b[1;32m      <a href='vscode-notebook-cell:/home/dioptrtit/Bureau/Projets%20realiser/Projet%20ML/Partie%20A.ipynb#X21sZmlsZQ%3D%3D?line=0'>1</a>\u001b[0m \u001b[39m# Supprimer les lignes où 'Order Date' est égal à 'Order Date'\u001b[39;00m\n\u001b[0;32m----> <a href='vscode-notebook-cell:/home/dioptrtit/Bureau/Projets%20realiser/Projet%20ML/Partie%20A.ipynb#X21sZmlsZQ%3D%3D?line=1'>2</a>\u001b[0m data \u001b[39m=\u001b[39m data[data[\u001b[39m'\u001b[39m\u001b[39mOrder Date\u001b[39m\u001b[39m'\u001b[39m] \u001b[39m!=\u001b[39m \u001b[39m'\u001b[39m\u001b[39mOrder Date\u001b[39m\u001b[39m'\u001b[39m]\n\u001b[1;32m      <a href='vscode-notebook-cell:/home/dioptrtit/Bureau/Projets%20realiser/Projet%20ML/Partie%20A.ipynb#X21sZmlsZQ%3D%3D?line=3'>4</a>\u001b[0m \u001b[39m# Convertir 'Order Date' en datetime avec le format correct\u001b[39;00m\n\u001b[1;32m      <a href='vscode-notebook-cell:/home/dioptrtit/Bureau/Projets%20realiser/Projet%20ML/Partie%20A.ipynb#X21sZmlsZQ%3D%3D?line=4'>5</a>\u001b[0m data[\u001b[39m'\u001b[39m\u001b[39mOrder Date\u001b[39m\u001b[39m'\u001b[39m] \u001b[39m=\u001b[39m pd\u001b[39m.\u001b[39mto_datetime(data[\u001b[39m'\u001b[39m\u001b[39mOrder Date\u001b[39m\u001b[39m'\u001b[39m], \u001b[39mformat\u001b[39m\u001b[39m=\u001b[39m\u001b[39m'\u001b[39m\u001b[39m%\u001b[39m\u001b[39mm/\u001b[39m\u001b[39m%d\u001b[39;00m\u001b[39m/\u001b[39m\u001b[39m%\u001b[39m\u001b[39my \u001b[39m\u001b[39m%\u001b[39m\u001b[39mH:\u001b[39m\u001b[39m%\u001b[39m\u001b[39mM\u001b[39m\u001b[39m'\u001b[39m)\n",
      "\u001b[0;31mNameError\u001b[0m: name 'data' is not defined"
     ]
    }
   ],
   "source": [
    "# Supprimer les lignes où 'Order Date' est égal à 'Order Date'\n",
    "data = data[data['Order Date'] != 'Order Date']\n",
    "\n",
    "# Convertir 'Order Date' en datetime avec le format correct\n",
    "data['Order Date'] = pd.to_datetime(data['Order Date'], format='%m/%d/%y %H:%M')\n",
    "\n",
    "# Vérifier les types de données mis à jour\n",
    "data.info()\n"
   ]
  },
  {
   "cell_type": "code",
   "execution_count": null,
   "id": "e2c6f64f",
   "metadata": {
    "scrolled": true
   },
   "outputs": [],
   "source": [
    "data.describe()"
   ]
  },
  {
   "cell_type": "markdown",
   "id": "ba263efa",
   "metadata": {},
   "source": [
    "Count : Cela indique le nombre total d'observations non nulles dans chaque colonne. Vous avez 1 859 500 entrées non nulles pour 'Quantity Ordered' et 'Price Each'.\n",
    "\n",
    "Mean : C'est la moyenne des valeurs dans chaque colonne. Par exemple, la moyenne du nombre d'articles commandés ('Quantity Ordered') est d'environ 1,12, ce qui signifie en moyenne un peu plus d'un article est commandé à la fois.\n",
    "\n",
    "Std (écart type) : Cela mesure la dispersion des données autour de la moyenne. Par exemple, l'écart type du prix de chaque article ('Price Each') est d'environ 332,73, ce qui indique une grande variabilité des prix.\n",
    "\n",
    "Min : Il s'agit de la valeur minimale dans chaque colonne. Par exemple, le nombre minimum d'articles commandés est 1, et le prix minimum est 2,99.\n",
    "\n",
    "25% : Ceci représente le premier quartile, ce qui signifie que 25% des valeurs sont inférieures à ce seuil. Par exemple, le 25e percentile pour le prix de chaque article est d'environ 11,95.\n",
    "\n",
    "50% (médiane) : C'est la valeur médiane, qui divise les données en deux parties égales. Par exemple, la médiane du prix de chaque article est d'environ 14,95.\n",
    "\n",
    "75% : Ceci représente le troisième quartile, ce qui signifie que 75% des valeurs sont inférieures à ce seuil. Par exemple, le 75e percentile pour le prix de chaque article est d'environ 150.\n",
    "\n",
    "Max : Il s'agit de la valeur maximale dans chaque colonne. Par exemple, la quantité maximale commandée est 9, et le prix maximum est 1 700."
   ]
  },
  {
   "cell_type": "code",
   "execution_count": null,
   "id": "5daf751f",
   "metadata": {},
   "outputs": [],
   "source": [
    "# Diviser l'adresse en adresse, ville et code postal\n",
    "data[['Adresse', 'Ville', 'Code Postal']] = data['Purchase Address'].str.split(', ', n=2).apply(lambda x: pd.Series([x[0], x[1], x[2]]))\n",
    "\n",
    "# Afficher les premières lignes pour vérification\n",
    "print(data[['Adresse', 'Ville', 'Code Postal']].head(5))\n"
   ]
  },
  {
   "cell_type": "code",
   "execution_count": null,
   "id": "c4b29ef9",
   "metadata": {
    "scrolled": true
   },
   "outputs": [],
   "source": [
    "data.head()"
   ]
  },
  {
   "cell_type": "markdown",
   "id": "cc24f55a",
   "metadata": {},
   "source": [
    "## 3. Quel est le mois durant le quel l’entreprise a realisé le meilleur chiffre d’affaire ?"
   ]
  },
  {
   "cell_type": "code",
   "execution_count": null,
   "id": "a5949a3e",
   "metadata": {},
   "outputs": [],
   "source": [
    "#Créer une nouvelle colonne \"Chiffre d'Affaires\" en multipliant la quantité commandée (\"Quantity Ordered\") par le prix unitaire (\"Price Each\") pour chaque ligne.\n",
    "data['Chiffre d\\'Affaires'] = data['Quantity Ordered'] * data['Price Each']\n",
    "\n",
    "#Extraire le mois à partir de la colonne \"Order Date\" et le stocker dans une nouvelle colonne \"Mois\".\n",
    "data[\"Month\"] = data[\"Order Date\"].dt.month\n",
    "\n",
    "#Regrouper les données par mois et calculer le chiffre d'affaires total pour chaque mois.\n",
    "chiffre_affaires_mois = data.groupby('Month')['Chiffre d\\'Affaires'].sum()\n",
    "\n",
    "#Trouver le mois avec le chiffre d'affaires le plus élevé.\n",
    "mois_meilleur_chiffre_affaires = chiffre_affaires_mois.idxmax()\n",
    "\n",
    "#Afficher le mois avec le meilleur chiffre d'affaires.\n",
    "print(\"Le mois avec le meilleur chiffre d'affaires est le mois\", mois_meilleur_chiffre_affaires, \"et sa valeur est :\", chiffre_affaires_mois[mois_meilleur_chiffre_affaires])\n"
   ]
  },
  {
   "cell_type": "code",
   "execution_count": null,
   "id": "6c2e4601",
   "metadata": {},
   "outputs": [],
   "source": [
    "import matplotlib.pyplot as plt\n",
    "\n",
    "# Créer un graphique en barres pour afficher le chiffre d'affaires par mois\n",
    "mois = range(1, 13)  # Mois de 1 à 12\n",
    "\n",
    "plt.figure(figsize=(12, 6))  # Ajuster la taille du graphique\n",
    "\n",
    "# Crée un graphique en barres avec les mois sur l'axe des x et le chiffre d'affaires sur l'axe des y\n",
    "plt.bar(mois, chiffre_affaires_mois)\n",
    "\n",
    "# Configurer l'axe des x pour afficher les mois\n",
    "plt.xticks(mois)\n",
    "plt.xlabel('Mois')\n",
    "\n",
    "# Étiqueter l'axe des y\n",
    "plt.ylabel('Chiffre d\\'Affaires ($)')\n",
    "\n",
    "# Ajouter un titre au graphique\n",
    "plt.title('Chiffre d\\'Affaires par Mois')\n",
    "\n",
    "# Afficher le mois avec le meilleur chiffre d'affaires en tant qu'annotation\n",
    "plt.annotate(f'Meilleur mois : {mois_meilleur_chiffre_affaires}',\n",
    "             xy=(mois_meilleur_chiffre_affaires, chiffre_affaires_mois[mois_meilleur_chiffre_affaires]),\n",
    "             xytext=(7, 3000000),  # Position du texte d'annotation\n",
    "             arrowprops=dict(arrowstyle='->', color='red'))  # Flèche pour l'annotation\n",
    "\n",
    "# Afficher le graphique\n",
    "plt.show()\n"
   ]
  },
  {
   "cell_type": "markdown",
   "id": "5ebfdd28",
   "metadata": {},
   "source": [
    "## 4. Dans quelle ville, l’entreprise a enregistré le maximum de commandes ?"
   ]
  },
  {
   "cell_type": "code",
   "execution_count": null,
   "id": "0b66749b",
   "metadata": {},
   "outputs": [],
   "source": [
    "data.head(10)"
   ]
  },
  {
   "cell_type": "code",
   "execution_count": null,
   "id": "7942b37c",
   "metadata": {
    "scrolled": false
   },
   "outputs": [],
   "source": [
    "data"
   ]
  },
  {
   "cell_type": "code",
   "execution_count": null,
   "id": "788eb1b7",
   "metadata": {},
   "outputs": [],
   "source": [
    "data.info()"
   ]
  },
  {
   "cell_type": "markdown",
   "id": "be7cd840",
   "metadata": {},
   "source": [
    "On voit que nous avons 185950 ligne ou Order ID est non null ce qui correspond au nombre total de ligne que nous avons. Donc nous pouvons affirmer que chaque ligne est commande"
   ]
  },
  {
   "cell_type": "code",
   "execution_count": null,
   "id": "7ce70fa7",
   "metadata": {},
   "outputs": [],
   "source": [
    "# Regrouper les données par ville et calculer le nombre total de commandes pour chaque ville.\n",
    "nombre_commande_ville = data.groupby(\"Ville\")[\"Order ID\"].nunique()\n",
    "print(nombre_commande_ville)\n",
    "\n",
    "# Trouver la ville avec le maximum de commandes\n",
    "ville_max_commandes = nombre_commande_ville.idxmax()\n",
    "\n",
    "# Afficher la ville avec le maximum de commandes\n",
    "print(f\"Dans quelle ville l'entreprise a enregistré le maximum de commandes ? Réponse : {ville_max_commandes}\")\n"
   ]
  },
  {
   "cell_type": "code",
   "execution_count": null,
   "id": "269b8d6f",
   "metadata": {
    "scrolled": false
   },
   "outputs": [],
   "source": [
    "# Créer un graphique en barres pour afficher le nombre de commandes par ville\n",
    "villes = nombre_commande_ville.index\n",
    "nombre_de_commandes = nombre_commande_ville.values\n",
    "\n",
    "plt.figure(figsize=(12, 6))  # Ajuster la taille du graphique\n",
    "plt.bar(villes, nombre_de_commandes)\n",
    "plt.xlabel('Ville')\n",
    "plt.ylabel('Nombre de Commandes')\n",
    "plt.title('Nombre de Commandes par Ville')\n",
    "\n",
    "# Ajouter une annotation pour indiquer la ville avec le maximum de commandes\n",
    "plt.annotate(f'Maximum : {ville_max_commandes}',\n",
    "             xy=(ville_max_commandes, nombre_commande_ville[ville_max_commandes]),\n",
    "             xytext=(3, 20000),  # Position du texte d'annotation\n",
    "             arrowprops=dict(arrowstyle='->', color='red'))  # Flèche pour l'annotation\n",
    "\n",
    "plt.xticks(rotation=45)  # Faire pivoter les étiquettes de l'axe des x pour une meilleure lisibilité\n",
    "\n",
    "plt.tight_layout()\n",
    "plt.show()"
   ]
  },
  {
   "cell_type": "markdown",
   "id": "a5713553",
   "metadata": {},
   "source": [
    "## 5. En quel moment doit on faire une campagne de publicité pour avoir plus de ventes ?"
   ]
  },
  {
   "cell_type": "code",
   "execution_count": null,
   "id": "95848d42",
   "metadata": {},
   "outputs": [],
   "source": [
    "# Ajoutez des colonnes mois deja fait.\n",
    "\n",
    "# Regroupement des données par mois et calcule du chiffre d'affaires total pour chaque mois deja fait.\n",
    "print(chiffre_affaires_mois)\n",
    "\n",
    "# Graphique en lignes pour visualiser l'évolution du chiffre d'affaires au fil des mois.\n",
    "\n",
    "plt.figure(figsize=(12, 6))\n",
    "plt.plot(chiffre_affaires_mois.index, chiffre_affaires_mois.values, marker='o')\n",
    "plt.xlabel('Mois)')\n",
    "plt.ylabel('Chiffre d\\'Affaires ($)')\n",
    "plt.title('Évolution du Chiffre d\\'Affaires par Mois')\n",
    "plt.grid(True)\n",
    "plt.show()\n"
   ]
  },
  {
   "cell_type": "markdown",
   "id": "3606dcdf",
   "metadata": {},
   "source": [
    "Nous avons identifié les mois où il y a des pics de chiffre d'affaires, notamment en avril, octobre et décembre. Ces pics peuvent indiquer des périodes de pointe où l'entreprise réalise de meilleures ventes.\n",
    "\n",
    "En fonction de ces observations, voici quelques recommandations pour lancer des campagnes de publicité :\n",
    "\n",
    "Avril : Il y a un pic en avril, ce qui suggère que c'est une période où les ventes sont généralement bonnes. Vous pourriez envisager de lancer une campagne de publicité pour capitaliser sur cette période de pointe.\n",
    "\n",
    "Octobre : Le mois d'octobre montre également une augmentation significative du chiffre d'affaires. Il peut être judicieux de prévoir une campagne de marketing pour stimuler davantage les ventes pendant cette période.\n",
    "\n",
    "Décembre : En décembre, le chiffre d'affaires atteint son maximum. C'est une période clé pour les ventes en raison des fêtes de fin d'année. Il est fortement recommandé de planifier une campagne de publicité stratégique pour maximiser les ventes pendant la période des fêtes."
   ]
  },
  {
   "cell_type": "markdown",
   "id": "733ed56f",
   "metadata": {},
   "source": [
    "## 6. Quel est le produit qui est plus vendu ? Essayer d’expliquer pourquoi il est plus vendu ?"
   ]
  },
  {
   "cell_type": "code",
   "execution_count": null,
   "id": "e34f2c10",
   "metadata": {},
   "outputs": [],
   "source": [
    "# Regroupez les données par produit et calculez la quantité totale vendue de chaque produit.\n",
    "\n",
    "produits_plus_vendus = data.groupby('Product')[\"Quantity Ordered\"].sum().reset_index()\n",
    "\n",
    "# Triez les produits en fonction de la quantité totale vendue pour déterminer celui qui est le plus vendu.\n",
    "produit_plus_vendu = produits_plus_vendus.sort_values(by = \"Quantity Ordered\", ascending=False).iloc[0]\n",
    "\n",
    "# Affichez le produit le plus vendu et la quantité totale vendue.\n",
    "produit_max_vendu = produit_plus_vendu[\"Product\"]\n",
    "quantite_max_vendue = produit_plus_vendu[\"Quantity Ordered\"]\n",
    "print(f\"Le produit le plus vendu est '{produit_max_vendu}' avec une quantité totale vendue de {quantite_max_vendue} unités\", \"son prix est\", data[data[\"Product\"]== produit_max_vendu][\"Price Each\"].iloc[0] )\n"
   ]
  },
  {
   "cell_type": "markdown",
   "id": "fef77187",
   "metadata": {},
   "source": [
    "Pour expliquer pourquoi ce produit est le plus vendu, voici quelques raisons possibles :\n",
    "\n",
    "Nécessité courante : Les piles AAA sont des articles couramment utilisés dans de nombreux appareils électroniques grand public, tels que les télécommandes, les jouets, les horloges, etc. En tant qu'articles de première nécessité, ils sont souvent achetés en grandes quantités.\n",
    "\n",
    "Prix abordable : Le prix de 2,99 dollars par paquet de 4 piles est abordable, ce qui encourage les clients à acheter en vrac.\n",
    "\n",
    "Consommation fréquente : Étant donné que les piles s'épuisent avec le temps, les clients ont tendance à les acheter régulièrement, ce qui stimule les ventes continues.\n",
    "\n",
    "Pas de saisonnalité : Contrairement à certains produits qui peuvent connaître des variations saisonnières, les piles AAA sont en demande toute l'année.\n",
    "\n",
    "Compatibilité universelle : Les piles AAA sont compatibles avec de nombreux appareils, ce qui les rend polyvalentes et populaires.\n",
    "\n",
    "Besoin quotidien : Les piles sont souvent nécessaires pour alimenter des appareils quotidiens, ce qui signifie que les clients les achètent régulièrement.\n",
    "\n",
    "Dans l'ensemble, la combinaison de la demande constante, de l'abordabilité et de la polyvalence fait des piles AAA un produit populaire et le plus vendu dans votre ensemble de données. Cela souligne l'importance de comprendre les besoins des clients et de proposer des produits adaptés à leurs besoins quotidiens."
   ]
  },
  {
   "cell_type": "markdown",
   "id": "4af4075d",
   "metadata": {},
   "source": [
    "## 7. Quelles sont les combinaisons de produits qui se vendent le plus ?"
   ]
  },
  {
   "cell_type": "code",
   "execution_count": null,
   "id": "b322ba4c",
   "metadata": {},
   "outputs": [],
   "source": [
    "# Groupement des produits par commande et création de la colonne \"Product Combinaison\"\n",
    "data['Product Combinaison'] = data.groupby('Order ID')['Product'].transform(lambda x: ', '.join(x))\n",
    "\n",
    "# Suppression des doublons dans la colonne \"Order ID\" pour éviter la duplication\n",
    "data.drop_duplicates(subset=['Order ID'], inplace=True)\n",
    "\n",
    "# Affichage des combinaisons de produits\n",
    "print(data['Product Combinaison'])\n"
   ]
  },
  {
   "cell_type": "code",
   "execution_count": null,
   "id": "003cb2d8",
   "metadata": {},
   "outputs": [],
   "source": [
    "datafiltered = data[data[\"Product Combinaison\"].str.count(',') > 1]\n",
    "datafiltered.drop_duplicates(subset=[\"Order ID\"], inplace=True)\n",
    "combinaisons_vendues = datafiltered.groupby('Product Combinaison')['Order ID'].count().reset_index()\n",
    "print(combinaisons_vendues)\n",
    "combinaisons_plus_vendues = combinaisons_vendues.sort_values(by='Order ID', ascending=False).iloc[0]\n",
    "combinaison_max_vendue = combinaisons_plus_vendues['Product Combinaison']\n",
    "nombre_total_commandes = combinaisons_plus_vendues['Order ID']\n",
    "\n",
    "print(f\"Les combinaisons de produits les plus vendues sont : '{combinaison_max_vendue}' avec un nombre total de {nombre_total_commandes} commandes.\")\n"
   ]
  },
  {
   "cell_type": "markdown",
   "id": "2fdbb05d",
   "metadata": {},
   "source": [
    "## 8. Vous pourriez répondre à d’autres questions si nécessaires."
   ]
  },
  {
   "cell_type": "code",
   "execution_count": null,
   "id": "2b056f9a",
   "metadata": {},
   "outputs": [],
   "source": [
    "# Regrouper les ventes par ville ou état\n",
    "city_sales = data.groupby('Ville')['Chiffre d\\'Affaires'].sum()\n",
    "# state_sales = data.groupby('Code Postal')['Total Sales'].sum()\n",
    "\n",
    "# Tracer un graphique des ventes par ville ou état\n",
    "import matplotlib.pyplot as plt\n",
    "plt.figure(figsize=(12, 6))\n",
    "city_sales.sort_values(ascending=False).plot(kind='bar')\n",
    "plt.xlabel('Ville')\n",
    "plt.ylabel('Ventes totales')\n",
    "plt.title('Ventes par ville')\n",
    "plt.xticks(rotation=90)\n",
    "plt.show()\n"
   ]
  },
  {
   "cell_type": "code",
   "execution_count": null,
   "id": "c850eeec",
   "metadata": {},
   "outputs": [],
   "source": [
    "# Regrouper les ventes par produit et mois\n",
    "product_monthly_sales = data.groupby(['Product', 'Month'])['Quantity Ordered'].sum().unstack()\n",
    "print(product_monthly_sales)\n",
    "# Tracer un graphique des tendances de vente des produits\n",
    "product_monthly_sales.plot(kind='line', figsize=(12, 6))\n",
    "plt.xlabel('Mois')\n",
    "plt.ylabel('Quantité vendue')\n",
    "plt.title('Tendances de vente des produits par mois')\n",
    "plt.xticks(range(1, 13))\n",
    "plt.legend(title='Produit', loc='center left', bbox_to_anchor=(1, 0.5))\n",
    "plt.fig\n",
    "plt.grid(True)\n",
    "plt.show()\n"
   ]
  },
  {
   "cell_type": "code",
   "execution_count": null,
   "id": "b925c50c",
   "metadata": {},
   "outputs": [],
   "source": [
    "import matplotlib.pyplot as plt\n",
    "\n",
    "# Créer un sous-ensemble de données avec les colonnes 'Product' et 'Price Each'\n",
    "price_data = data[['Product', 'Price Each']]\n",
    "\n",
    "# Supprimer les doublons de produits pour éviter la double comptabilisation\n",
    "price_data = price_data.drop_duplicates(subset=['Product'])\n",
    "\n",
    "# Tracer un nuage de points pour visualiser la relation entre le prix et les ventes\n",
    "plt.figure(figsize=(14, 6))\n",
    "plt.scatter(price_data['Price Each'], price_data['Product'], s=10)\n",
    "plt.xlabel('Prix par unité')\n",
    "plt.ylabel('Produit')\n",
    "plt.title('Relation entre les prix et les produits')\n",
    "plt.xticks(rotation=90)\n",
    "plt.grid(True)\n",
    "plt.show()\n"
   ]
  },
  {
   "cell_type": "code",
   "execution_count": null,
   "id": "72e094a5",
   "metadata": {},
   "outputs": [],
   "source": [
    "# Calculer la corrélation entre le prix et les ventes\n",
    "correlation = price_data['Price Each'].corr(price_data['Product'])\n",
    "\n",
    "print(f\"La corrélation entre le prix et les ventes est : {correlation:.2f}\")\n"
   ]
  },
  {
   "cell_type": "code",
   "execution_count": null,
   "id": "0ac5f261",
   "metadata": {},
   "outputs": [],
   "source": [
    "import matplotlib.pyplot as plt\n",
    "\n",
    "# Analyse 1 : Identifier les produits les plus vendus chaque mois\n",
    "top_products_by_month = data.groupby(['Month', 'Product'])['Quantity Ordered'].sum().reset_index()\n",
    "top_products_by_month = top_products_by_month.loc[top_products_by_month.groupby('Month')['Quantity Ordered'].idxmax()]\n",
    "\n",
    "# Analyse 2 : Analyser les tendances saisonnières\n",
    "product_monthly_sales = data.groupby(['Product', 'Month'])['Quantity Ordered'].sum().unstack()\n",
    "\n",
    "# Analyse 3 : Comparer la performance des produits tout au long de l'année\n",
    "total_sales_by_product = data.groupby('Product')['Quantity Ordered'].sum().sort_values(ascending=False)\n",
    "\n",
    "# Analyse 4 : Calculer le chiffre d'affaires total mensuel\n",
    "monthly_revenue = data.groupby('Month')['Sales'].sum()\n",
    "\n",
    "# Affichage des résultats\n",
    "print(\"Produits les plus vendus chaque mois :\")\n",
    "print(top_products_by_month)\n",
    "\n",
    "print(\"\\nTotal des ventes par produit :\")\n",
    "print(total_sales_by_product)\n",
    "\n",
    "print(\"\\nChiffre d'affaires total mensuel :\")\n",
    "print(monthly_revenue)\n",
    "\n",
    "# Tracer un graphique des tendances de vente des produits\n",
    "product_monthly_sales.plot(kind='line', figsize=(12, 6))\n",
    "plt.xlabel('Mois')\n",
    "plt.ylabel('Quantité vendue')\n",
    "plt.title('Tendances de vente des produits par mois')\n",
    "plt.xticks(range(1, 13))\n",
    "plt.legend(title='Produit', loc='center left', bbox_to_anchor=(1, 0.5))\n",
    "plt.grid(True)\n",
    "plt.show()\n"
   ]
  },
  {
   "cell_type": "code",
   "execution_count": null,
   "id": "bb5dd851",
   "metadata": {},
   "outputs": [],
   "source": []
  }
 ],
 "metadata": {
  "kernelspec": {
   "display_name": "Python 3 (ipykernel)",
   "language": "python",
   "name": "python3"
  },
  "language_info": {
   "codemirror_mode": {
    "name": "ipython",
    "version": 3
   },
   "file_extension": ".py",
   "mimetype": "text/x-python",
   "name": "python",
   "nbconvert_exporter": "python",
   "pygments_lexer": "ipython3",
   "version": "3.9.16"
  }
 },
 "nbformat": 4,
 "nbformat_minor": 5
}
